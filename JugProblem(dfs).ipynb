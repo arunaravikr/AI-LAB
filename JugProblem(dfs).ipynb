{
  "nbformat": 4,
  "nbformat_minor": 0,
  "metadata": {
    "colab": {
      "name": "JugProblem(dfs).ipynb",
      "provenance": [],
      "collapsed_sections": [],
      "include_colab_link": true
    },
    "kernelspec": {
      "name": "python3",
      "display_name": "Python 3"
    },
    "language_info": {
      "name": "python"
    }
  },
  "cells": [
    {
      "cell_type": "markdown",
      "metadata": {
        "id": "view-in-github",
        "colab_type": "text"
      },
      "source": [
        "<a href=\"https://colab.research.google.com/github/niths1271/AI-LAB/blob/main/JugProblem(dfs).ipynb\" target=\"_parent\"><img src=\"https://colab.research.google.com/assets/colab-badge.svg\" alt=\"Open In Colab\"/></a>"
      ]
    },
    {
      "cell_type": "code",
      "execution_count": null,
      "metadata": {
        "id": "4pxJBorMbZxq"
      },
      "outputs": [],
      "source": [
        "def dfs(src,visited_states, new_arr):\n",
        "  if src[0]==2:\n",
        "    return True\n",
        "  visited_states.append(src)\n",
        "  moves=possible_moves(src,visited_states)\n",
        "  for move in moves:\n",
        "    if dfs(move,visited_states,new_arr):\n",
        "      new_arr.append(move)\n",
        "      return True\n",
        "  return False"
      ]
    },
    {
      "cell_type": "code",
      "source": [
        "def possible_moves(src,visited_states):\n",
        "  possibles=[]\n",
        "  if src[0] == 0:\n",
        "    possibles.append((4,src[1]))\n",
        "  if src[1] == 0:\n",
        "    possibles.append((src[0],3))\n",
        "  if src[0] != 0:\n",
        "    possibles.append((0,src[1]))\n",
        "  if src[1] != 0:\n",
        "    possibles.append((src[0],0))\n",
        "  if src[0] != 4 and src[1] != 0:\n",
        "    possibles.append((min(4,src[0]+src[1]),max(0,src[1]-(4-src[0]))))\n",
        "  if src[1] != 3 and src[0] != 0:\n",
        "    possibles.append((src[0]-(3-src[1]),min(3,src[0]+src[1])))\n",
        "  return [move for move in possibles if move not in visited_states]"
      ],
      "metadata": {
        "id": "7NUZKRYfcoGf"
      },
      "execution_count": null,
      "outputs": []
    },
    {
      "cell_type": "code",
      "source": [
        "src=(0,0)\n",
        "new_arr=[]\n",
        "visited_states=[]\n",
        "print(src)\n",
        "dfs(src,visited_states,new_arr)\n",
        "l=len(new_arr)\n",
        "for i in range(len(new_arr)):\n",
        "  print(new_arr[l-i-1])\n",
        "  "
      ],
      "metadata": {
        "colab": {
          "base_uri": "https://localhost:8080/"
        },
        "id": "nqQEvhXxcodQ",
        "outputId": "216f1d45-9cf6-4201-e64a-871fb3dd85d2"
      },
      "execution_count": null,
      "outputs": [
        {
          "output_type": "stream",
          "name": "stdout",
          "text": [
            "(0, 0)\n",
            "(4, 0)\n",
            "(4, 3)\n",
            "(0, 3)\n",
            "(3, 0)\n",
            "(3, 3)\n",
            "(4, 2)\n",
            "(0, 2)\n",
            "(2, 0)\n"
          ]
        }
      ]
    }
  ]
}