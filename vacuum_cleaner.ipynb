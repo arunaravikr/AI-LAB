{
  "nbformat": 4,
  "nbformat_minor": 0,
  "metadata": {
    "kernelspec": {
      "display_name": "Python 3",
      "language": "python",
      "name": "python3"
    },
    "language_info": {
      "codemirror_mode": {
        "name": "ipython",
        "version": 3
      },
      "file_extension": ".py",
      "mimetype": "text/x-python",
      "name": "python",
      "nbconvert_exporter": "python",
      "pygments_lexer": "ipython3",
      "version": "3.7.6"
    },
    "colab": {
      "name": "vacuum_cleaner.ipynb",
      "provenance": [],
      "collapsed_sections": [],
      "include_colab_link": true
    }
  },
  "cells": [
    {
      "cell_type": "markdown",
      "metadata": {
        "id": "view-in-github",
        "colab_type": "text"
      },
      "source": [
        "<a href=\"https://colab.research.google.com/github/niths1271/AI-LAB/blob/main/vacuum_cleaner.ipynb\" target=\"_parent\"><img src=\"https://colab.research.google.com/assets/colab-badge.svg\" alt=\"Open In Colab\"/></a>"
      ]
    },
    {
      "cell_type": "markdown",
      "metadata": {
        "id": "zu0FKG94f_GN"
      },
      "source": [
        "## Vacuum Cleaner Agent   "
      ]
    },
    {
      "cell_type": "markdown",
      "metadata": {
        "id": "TFK1sYAWf_GV"
      },
      "source": [
        "### Problem Statement"
      ]
    },
    {
      "cell_type": "markdown",
      "metadata": {
        "id": "DhYZlZ2Vf_GW"
      },
      "source": [
        "Given M x N grid(floor) create an agent that moves around the grid until the entire grid is clean\n",
        "\n",
        "floor is representated as follows:\n",
        "\n",
        "floor = [[1, 0, 0, 0],\n",
        "         [0, 1, 0, 1],\n",
        "         [1, 0, 1, 1]]\n",
        "         \n",
        "'1' represents dirty and '0' represents clean"
      ]
    },
    {
      "cell_type": "markdown",
      "metadata": {
        "id": "bZcp1qTsf_GX"
      },
      "source": [
        "#### Functions:\n",
        "\n",
        "clean - to clean the replace '1' with '0' <br>\n",
        "print_floor - shows current position of the vaccum cleaner at every move the agent makes"
      ]
    },
    {
      "cell_type": "markdown",
      "metadata": {
        "id": "wFjlsB0Rf_GY"
      },
      "source": [
        "#### function clean(floor)\n",
        "\n",
        "Traverse every column in each row<br>\n",
        "if the row is even, traverse the columns in forward direction<br>\n",
        "if the row is odd, traverse the columns in reverse direction\n"
      ]
    },
    {
      "cell_type": "code",
      "metadata": {
        "id": "i5jrwljMf_GY"
      },
      "source": [
        "def clean(floor):\n",
        "    row = len(floor)\n",
        "    col = len(floor[0])\n",
        "    for i in range(0, row):\n",
        "        if(i%2 == 0):\n",
        "            for j in range(0, col):\n",
        "                if(floor[i][j] == 1):\n",
        "                    floor[i][j] = 0\n",
        "                print_floor(floor, i, j)\n",
        "        else:\n",
        "            for j in range(col-1, -1, -1):\n",
        "                if(floor[i][j] == 1):\n",
        "                    floor[i][j] = 0\n",
        "                print_floor(floor, i, j)\n",
        "                "
      ],
      "execution_count": null,
      "outputs": []
    },
    {
      "cell_type": "code",
      "metadata": {
        "id": "aRQU4ve9f_Gb"
      },
      "source": [
        "def print_floor(floor, row, col):\n",
        "    for i in range(0, len(floor)):\n",
        "        for j in range(0, len(floor[0])):\n",
        "            if(i == row and j == col):\n",
        "                print(f\"|{floor[i][j]}|\", end=\" \")\n",
        "            else:\n",
        "                print(f\" {floor[i][j]} \", end=\" \")\n",
        "        print(end='\\n')\n",
        "    print(end='\\n')"
      ],
      "execution_count": null,
      "outputs": []
    },
    {
      "cell_type": "code",
      "metadata": {
        "id": "oYvRQmhrf_Gc"
      },
      "source": [
        "def main():\n",
        "    print(\"Enter no. of rows\")\n",
        "    m = int(input())\n",
        "    print(\"Enter no.of columns\")\n",
        "    n = int(input())\n",
        "    floor = []\n",
        "    for i in range(0, m):\n",
        "        a = list(map(int, input().split(\" \")))\n",
        "        floor.append(a)\n",
        "    print()\n",
        "    clean(floor)\n",
        "       "
      ],
      "execution_count": null,
      "outputs": []
    },
    {
      "cell_type": "code",
      "metadata": {
        "id": "nRlVpn7sf_Gd",
        "outputId": "ddb7f6a2-de50-419f-cf7f-2ce5ddf2a0cc"
      },
      "source": [
        "# Test 1\n",
        "main()"
      ],
      "execution_count": null,
      "outputs": [
        {
          "name": "stdout",
          "output_type": "stream",
          "text": [
            "Enter no. of rows\n",
            "3\n",
            "Enter no.of columns\n",
            "4\n",
            "1 0 0 0\n",
            "0 1 0 1\n",
            "1 0 1 1\n",
            "\n",
            "|0|  0   0   0  \n",
            " 0   1   0   1  \n",
            " 1   0   1   1  \n",
            "\n",
            " 0  |0|  0   0  \n",
            " 0   1   0   1  \n",
            " 1   0   1   1  \n",
            "\n",
            " 0   0  |0|  0  \n",
            " 0   1   0   1  \n",
            " 1   0   1   1  \n",
            "\n",
            " 0   0   0  |0| \n",
            " 0   1   0   1  \n",
            " 1   0   1   1  \n",
            "\n",
            " 0   0   0   0  \n",
            " 0   1   0  |0| \n",
            " 1   0   1   1  \n",
            "\n",
            " 0   0   0   0  \n",
            " 0   1  |0|  0  \n",
            " 1   0   1   1  \n",
            "\n",
            " 0   0   0   0  \n",
            " 0  |0|  0   0  \n",
            " 1   0   1   1  \n",
            "\n",
            " 0   0   0   0  \n",
            "|0|  0   0   0  \n",
            " 1   0   1   1  \n",
            "\n",
            " 0   0   0   0  \n",
            " 0   0   0   0  \n",
            "|0|  0   1   1  \n",
            "\n",
            " 0   0   0   0  \n",
            " 0   0   0   0  \n",
            " 0  |0|  1   1  \n",
            "\n",
            " 0   0   0   0  \n",
            " 0   0   0   0  \n",
            " 0   0  |0|  1  \n",
            "\n",
            " 0   0   0   0  \n",
            " 0   0   0   0  \n",
            " 0   0   0  |0| \n",
            "\n"
          ]
        }
      ]
    }
  ]
}