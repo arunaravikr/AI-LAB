{
  "nbformat": 4,
  "nbformat_minor": 0,
  "metadata": {
    "colab": {
      "name": "8puzzle(manhattan distance).ipynb",
      "provenance": [],
      "authorship_tag": "ABX9TyP0cE7wZuXjG6KKvvlnwB88",
      "include_colab_link": true
    },
    "kernelspec": {
      "name": "python3",
      "display_name": "Python 3"
    },
    "language_info": {
      "name": "python"
    }
  },
  "cells": [
    {
      "cell_type": "markdown",
      "metadata": {
        "id": "view-in-github",
        "colab_type": "text"
      },
      "source": [
        "<a href=\"https://colab.research.google.com/github/niths1271/AI-LAB/blob/main/8puzzle(manhattan_distance).ipynb\" target=\"_parent\"><img src=\"https://colab.research.google.com/assets/colab-badge.svg\" alt=\"Open In Colab\"/></a>"
      ]
    },
    {
      "cell_type": "code",
      "execution_count": null,
      "metadata": {
        "id": "Vel_HIeMkovj"
      },
      "outputs": [],
      "source": [
        "def print_grid(src):\n",
        "    state = src.copy()\n",
        "    state[state.index(-1)] = ' '\n",
        "    print(\n",
        "        f\"\"\"\n",
        "{state[0]} {state[1]} {state[2]}\n",
        "{state[3]} {state[4]} {state[5]}\n",
        "{state[6]} {state[7]} {state[8]}\n",
        "        \"\"\"\n",
        "    )"
      ]
    },
    {
      "cell_type": "code",
      "source": [
        "def h(state, target):\n",
        "    #Manhattan distance\n",
        "    dist = 0\n",
        "    for i in state:\n",
        "        d1, d2 = state.index(i), target.index(i)\n",
        "        x1, y1 = d1 % 3, d1 // 3\n",
        "        x2, y2 = d2 % 3, d2 // 3\n",
        "        dist += abs(x1-x2) + abs(y1-y2)\n",
        "    return dist"
      ],
      "metadata": {
        "id": "JX_dN-Glkpwi"
      },
      "execution_count": null,
      "outputs": []
    },
    {
      "cell_type": "code",
      "source": [
        "def astar(src, target):\n",
        "    states = [src]\n",
        "    g = 0\n",
        "    visited_states = set()\n",
        "    while len(states):\n",
        "        print(f\"Level: {g}\")\n",
        "        moves = []\n",
        "        for state in states:\n",
        "            visited_states.add(tuple(state))\n",
        "            print_grid(state)\n",
        "            if state == target:\n",
        "                print(\"Success\")\n",
        "                return\n",
        "            moves += [move for move in possible_moves(state, visited_states) if move not in moves]\n",
        "        costs = [g + h(move, target) for move in moves]\n",
        "        states = [moves[i] for i in range(len(moves)) if costs[i] == min(costs)]\n",
        "        g += 1\n",
        "        if g>10:\n",
        "            print(\"NO SOLUTION\")\n",
        "            break"
      ],
      "metadata": {
        "id": "WXX_e33okpzI"
      },
      "execution_count": null,
      "outputs": []
    },
    {
      "cell_type": "code",
      "source": [
        "def possible_moves(state, visited_states):\n",
        "    b = state.index(-1)  \n",
        "    d = []\n",
        "    if 9 > b - 3 >= 0: \n",
        "        d += 'u'\n",
        "    if 9 > b + 3 >= 0:\n",
        "        d += 'd'\n",
        "    if b not in [2,5,8]: \n",
        "        d += 'r'\n",
        "    if b not in [0,3,6]: \n",
        "        d += 'l'\n",
        "    pos_moves = []\n",
        "    for move in d:\n",
        "        pos_moves.append(gen(state,move,b))\n",
        "    return [move for move in pos_moves if tuple(move) not in visited_states]"
      ],
      "metadata": {
        "id": "MNjNHmllkp18"
      },
      "execution_count": null,
      "outputs": []
    },
    {
      "cell_type": "code",
      "source": [
        "def gen(state, direction, b):\n",
        "    temp = state.copy()                              \n",
        "    if direction == 'u':\n",
        "        temp[b-3], temp[b] = temp[b], temp[b-3]\n",
        "    if direction == 'd':\n",
        "        temp[b+3], temp[b] = temp[b], temp[b+3]\n",
        "    if direction == 'r':\n",
        "        temp[b+1], temp[b] = temp[b], temp[b+1]\n",
        "    if direction == 'l':\n",
        "        temp[b-1], temp[b] = temp[b], temp[b-1]\n",
        "    return temp"
      ],
      "metadata": {
        "id": "pqihcUcVkp4s"
      },
      "execution_count": null,
      "outputs": []
    },
    {
      "cell_type": "code",
      "source": [
        "src = [8,2,3,-1,4,6,7,5,1]\n",
        "target = [1,2,3,4,5,6,7,8,-1]         \n",
        "       \n",
        "\n",
        "\n",
        "astar(src, target)"
      ],
      "metadata": {
        "colab": {
          "base_uri": "https://localhost:8080/"
        },
        "id": "Ml1o_C1Ukp6-",
        "outputId": "a2a92005-aa09-4cfa-e9ab-1ac02ebb8963"
      },
      "execution_count": null,
      "outputs": [
        {
          "output_type": "stream",
          "name": "stdout",
          "text": [
            "Level: 0\n",
            "\n",
            "8 2 3\n",
            "  4 6\n",
            "7 5 1\n",
            "        \n",
            "Level: 1\n",
            "\n",
            "8 2 3\n",
            "4   6\n",
            "7 5 1\n",
            "        \n",
            "Level: 2\n",
            "\n",
            "8 2 3\n",
            "4 5 6\n",
            "7   1\n",
            "        \n",
            "Level: 3\n",
            "\n",
            "8 2 3\n",
            "4 5 6\n",
            "7 1  \n",
            "        \n",
            "Level: 4\n",
            "\n",
            "8 2 3\n",
            "4 5  \n",
            "7 1 6\n",
            "        \n",
            "Level: 5\n",
            "\n",
            "8 2  \n",
            "4 5 3\n",
            "7 1 6\n",
            "        \n",
            "\n",
            "8 2 3\n",
            "4   5\n",
            "7 1 6\n",
            "        \n",
            "Level: 6\n",
            "\n",
            "8 2 3\n",
            "4 1 5\n",
            "7   6\n",
            "        \n",
            "Level: 7\n",
            "\n",
            "8 2 3\n",
            "4 1 5\n",
            "7 6  \n",
            "        \n",
            "Level: 8\n",
            "\n",
            "8 2 3\n",
            "4 1  \n",
            "7 6 5\n",
            "        \n",
            "Level: 9\n",
            "\n",
            "8 2  \n",
            "4 1 3\n",
            "7 6 5\n",
            "        \n",
            "\n",
            "8 2 3\n",
            "4   1\n",
            "7 6 5\n",
            "        \n",
            "Level: 10\n",
            "\n",
            "8 2 3\n",
            "4 6 1\n",
            "7   5\n",
            "        \n",
            "NO SOLUTION\n"
          ]
        }
      ]
    }
  ]
}