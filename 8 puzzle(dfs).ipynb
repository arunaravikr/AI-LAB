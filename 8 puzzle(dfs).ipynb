{
  "nbformat": 4,
  "nbformat_minor": 0,
  "metadata": {
    "colab": {
      "name": "dfs.ipynb",
      "provenance": [],
      "authorship_tag": "ABX9TyO4VsjwF0oOeBRaX9Xe4GHX",
      "include_colab_link": true
    },
    "kernelspec": {
      "name": "python3",
      "display_name": "Python 3"
    },
    "language_info": {
      "name": "python"
    }
  },
  "cells": [
    {
      "cell_type": "markdown",
      "metadata": {
        "id": "view-in-github",
        "colab_type": "text"
      },
      "source": [
        "<a href=\"https://colab.research.google.com/github/niths1271/AI-LAB/blob/main/dfs.ipynb\" target=\"_parent\"><img src=\"https://colab.research.google.com/assets/colab-badge.svg\" alt=\"Open In Colab\"/></a>"
      ]
    },
    {
      "cell_type": "code",
      "execution_count": null,
      "metadata": {
        "id": "4nvz188m2Pkp"
      },
      "outputs": [],
      "source": [
        "def dfs(src,target,visited_states):\n",
        "    if src == target:\n",
        "        return True\n",
        "    visited_states.append(src)\n",
        "    moves = possible_moves(src,visited_states)   \n",
        "    for move in moves:\n",
        "        if dfs(move, target, visited_states):\n",
        "          printpuzzle(move)\n",
        "          return True\n",
        "    return False"
      ]
    },
    {
      "cell_type": "code",
      "source": [
        "def printpuzzle(src):\n",
        "    print(' ' + src[0] + ' | ' + src[1] + ' | ' + src[2])\n",
        "    print('-----------')\n",
        "    print(' ' + src[3] + ' | ' + src[4] + ' | ' + src[5])\n",
        "    print('-----------')\n",
        "    print(' ' + src[6] + ' | ' + src[7] + ' | ' + src[8])\n",
        "    print('\\n')"
      ],
      "metadata": {
        "id": "100FcMKF22Ah"
      },
      "execution_count": null,
      "outputs": []
    },
    {
      "cell_type": "code",
      "source": [
        "def possible_moves(state,visited_states): \n",
        "    b = state.index(-1)  \n",
        "    d = []\n",
        "    if b not in [0,1,2]: \n",
        "        d.append('u')\n",
        "    if b not in [6,7,8]:\n",
        "        d.append('d')\n",
        "    if b not in [2,5,8]: \n",
        "        d.append('r')\n",
        "    if b not in [0,3,6]: \n",
        "        d.append('l')\n",
        "    pos_moves = []\n",
        "    for move in d:\n",
        "        pos_moves.append(gen(state,move,b))\n",
        "    return [move for move in pos_moves if move not in visited_states]"
      ],
      "metadata": {
        "id": "PvA7yt1C2SIJ"
      },
      "execution_count": null,
      "outputs": []
    },
    {
      "cell_type": "code",
      "source": [
        "def gen(state, move, blank): \n",
        "    temp = state.copy()                              \n",
        "    if move == 'u':\n",
        "        temp[blank-3], temp[blank] = temp[blank], temp[blank-3]\n",
        "    if move == 'd':\n",
        "        temp[blank+3], temp[blank] = temp[blank], temp[blank+3]\n",
        "    if move == 'r':\n",
        "        temp[blank+1], temp[blank] = temp[blank], temp[blank+1]\n",
        "    if move == 'l':\n",
        "        temp[blank-1], temp[blank] = temp[blank], temp[blank-1]\n",
        "    return temp"
      ],
      "metadata": {
        "id": "9fQG3wmb2T8q"
      },
      "execution_count": null,
      "outputs": []
    },
    {
      "cell_type": "code",
      "source": [
        "src = [1, 2, 3, 4, 5, 6, 7, 8, -1]\n",
        "target = [-1, 1, 2, 3, 4, 5, 6, 7, 8]\n",
        "\n",
        "visited_states = []\n",
        "dfs(src,target,visited_states)"
      ],
      "metadata": {
        "id": "fA9fVyP02a9D"
      },
      "execution_count": null,
      "outputs": []
    }
  ]
}
