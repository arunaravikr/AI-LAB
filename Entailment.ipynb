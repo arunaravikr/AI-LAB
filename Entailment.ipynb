{
  "nbformat": 4,
  "nbformat_minor": 0,
  "metadata": {
    "kernelspec": {
      "display_name": "Python 3",
      "language": "python",
      "name": "python3"
    },
    "language_info": {
      "codemirror_mode": {
        "name": "ipython",
        "version": 3
      },
      "file_extension": ".py",
      "mimetype": "text/x-python",
      "name": "python",
      "nbconvert_exporter": "python",
      "pygments_lexer": "ipython3",
      "version": "3.7.6"
    },
    "colab": {
      "name": "Program6_entailment.ipynb",
      "provenance": [],
      "collapsed_sections": [],
      "include_colab_link": true
    }
  },
  "cells": [
    {
      "cell_type": "markdown",
      "metadata": {
        "id": "view-in-github",
        "colab_type": "text"
      },
      "source": [
        "<a href=\"https://colab.research.google.com/github/niths1271/AI-LAB/blob/main/Entailment.ipynb\" target=\"_parent\"><img src=\"https://colab.research.google.com/assets/colab-badge.svg\" alt=\"Open In Colab\"/></a>"
      ]
    },
    {
      "cell_type": "markdown",
      "metadata": {
        "id": "gyw0w1jIjtQz"
      },
      "source": [
        "#  Create a knowledgebase using prepositional logic and show that the given query entails the knowledge base or not"
      ]
    },
    {
      "cell_type": "code",
      "metadata": {
        "id": "14FDDtDAjtQ6"
      },
      "source": [
        "combinations=[(True,True, True),(True,True,False),(True,False,True),(True,False, False),(False,True, True),(False,True, False),(False, False,True),(False,False, False)]\n",
        "variable={'p':0,'q':1, 'r':2}\n",
        "kb=''\n",
        "q=''\n",
        "priority={'~':3,'v':1,'^':2}"
      ],
      "execution_count": null,
      "outputs": []
    },
    {
      "cell_type": "code",
      "metadata": {
        "id": "sqYuV7t2jtQ9"
      },
      "source": [
        "def input_rules():\n",
        "    global kb, q\n",
        "    kb = (input(\"Enter rule: \"))\n",
        "    q = input(\"Enter the Query: \")"
      ],
      "execution_count": null,
      "outputs": []
    },
    {
      "cell_type": "code",
      "metadata": {
        "id": "BVdNEp7FjtQ-"
      },
      "source": [
        "def entailment():\n",
        "    global kb, q\n",
        "    print('*'*10+\"Truth Table Reference\"+'*'*10)\n",
        "    print('kb','alpha')\n",
        "    print('*'*10)\n",
        "    for comb in combinations:\n",
        "        s = evaluatePostfix(toPostfix(kb), comb)\n",
        "        f = evaluatePostfix(toPostfix(q), comb)\n",
        "        print(s, f)\n",
        "        print('-'*10)\n",
        "        if s and not f:\n",
        "            return False\n",
        "    return True"
      ],
      "execution_count": null,
      "outputs": []
    },
    {
      "cell_type": "code",
      "metadata": {
        "id": "0fHjReaIjtQ_"
      },
      "source": [
        "def isOperand(c):\n",
        "    return c.isalpha() and c!='v'\n",
        "\n",
        "def isLeftParanthesis(c):\n",
        "    return c == '('\n",
        "\n",
        "def isRightParanthesis(c):\n",
        "    return c == ')'\n",
        "\n",
        "def isEmpty(stack):\n",
        "    return len(stack) == 0\n",
        "\n",
        "def peek(stack):\n",
        "    return stack[-1]\n",
        "\n",
        "def hasLessOrEqualPriority(c1, c2):\n",
        "    try:\n",
        "        return priority[c1]<=priority[c2]\n",
        "    except KeyError:\n",
        "        return False"
      ],
      "execution_count": null,
      "outputs": []
    },
    {
      "cell_type": "code",
      "metadata": {
        "id": "tRm5SFlljtRA"
      },
      "source": [
        "def toPostfix(infix):\n",
        "    stack = []\n",
        "    postfix = ''\n",
        "    for c in infix:\n",
        "        if isOperand(c):\n",
        "            postfix += c\n",
        "        else:\n",
        "            if isLeftParanthesis(c):\n",
        "                stack.append(c)\n",
        "            elif isRightParanthesis(c):\n",
        "                operator = stack.pop()\n",
        "                while not isLeftParanthesis(operator):\n",
        "                    postfix += operator\n",
        "                    operator = stack.pop()\n",
        "            else:\n",
        "                while (not isEmpty(stack)) and hasLessOrEqualPriority(c, peek(stack)):\n",
        "                    postfix += stack.pop()\n",
        "                stack.append(c)\n",
        "    while (not isEmpty(stack)):\n",
        "        postfix += stack.pop()\n",
        "    \n",
        "    return postfix\n",
        "                    "
      ],
      "execution_count": null,
      "outputs": []
    },
    {
      "cell_type": "code",
      "metadata": {
        "id": "zXS5BZHqjtRB"
      },
      "source": [
        "def evaluatePostfix(exp, comb):\n",
        "    stack = []\n",
        "    for i in exp:\n",
        "        if isOperand(i):\n",
        "            stack.append(comb[variable[i]])\n",
        "        elif i == '~':\n",
        "            val1 = stack.pop()\n",
        "            stack.append(not val1)\n",
        "        else:\n",
        "            val1 = stack.pop()\n",
        "            val2 = stack.pop()\n",
        "            stack.append(_eval(i,val2,val1))\n",
        "    return stack.pop()"
      ],
      "execution_count": null,
      "outputs": []
    },
    {
      "cell_type": "code",
      "metadata": {
        "id": "6sitOnbvjtRC"
      },
      "source": [
        "def _eval(i, val1, val2):\n",
        "    if i == '^': \n",
        "        return val2 and val1\n",
        "    return val2 or val1"
      ],
      "execution_count": null,
      "outputs": []
    },
    {
      "cell_type": "code",
      "metadata": {
        "id": "fjWL_AlQjtRD",
        "outputId": "185ef585-11ac-4362-cb90-a2b23a35c6fb",
        "colab": {
          "base_uri": "https://localhost:8080/"
        }
      },
      "source": [
        "#Test 1\n",
        "input_rules()\n",
        "ans = entailment()\n",
        "if ans:\n",
        "    print(\"The Knowledge Base entails query\")\n",
        "else:\n",
        "    print(\"The Knowledge Base does not entail query\")"
      ],
      "execution_count": null,
      "outputs": [
        {
          "output_type": "stream",
          "name": "stdout",
          "text": [
            "Enter rule: (~qv~pvr)^(~q^p)^q\n",
            "Enter the Query: r\n",
            "**********Truth Table Reference**********\n",
            "kb alpha\n",
            "**********\n",
            "False True\n",
            "----------\n",
            "False False\n",
            "----------\n",
            "False True\n",
            "----------\n",
            "False False\n",
            "----------\n",
            "False True\n",
            "----------\n",
            "False False\n",
            "----------\n",
            "False True\n",
            "----------\n",
            "False False\n",
            "----------\n",
            "The Knowledge Base entails query\n"
          ]
        }
      ]
    },
    {
      "cell_type": "code",
      "metadata": {
        "id": "xnxISKkBjtRE",
        "outputId": "9308c1e1-2532-4f86-abeb-9ba53a9a191c",
        "colab": {
          "base_uri": "https://localhost:8080/"
        }
      },
      "source": [
        "#Test 2\n",
        "input_rules()\n",
        "ans = entailment()\n",
        "if ans:\n",
        "    print(\"The Knowledge Base entails query\")\n",
        "else:\n",
        "    print(\"The Knowledge Base does not entail query\")"
      ],
      "execution_count": null,
      "outputs": [
        {
          "output_type": "stream",
          "name": "stdout",
          "text": [
            "Enter rule: (pvq)^(~rvp)\n",
            "Enter the Query: p^r\n",
            "**********Truth Table Reference**********\n",
            "kb alpha\n",
            "**********\n",
            "True True\n",
            "----------\n",
            "True False\n",
            "----------\n",
            "The Knowledge Base does not entail query\n"
          ]
        }
      ]
    },
    {
      "cell_type": "code",
      "metadata": {
        "id": "3kLfQ_3xjtRF"
      },
      "source": [
        ""
      ],
      "execution_count": null,
      "outputs": []
    }
  ]
}