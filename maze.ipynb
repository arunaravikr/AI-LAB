{
  "nbformat": 4,
  "nbformat_minor": 0,
  "metadata": {
    "colab": {
      "name": "maze.ipynb",
      "provenance": [],
      "include_colab_link": true
    },
    "kernelspec": {
      "name": "python3",
      "display_name": "Python 3"
    },
    "language_info": {
      "name": "python"
    }
  },
  "cells": [
    {
      "cell_type": "markdown",
      "metadata": {
        "id": "view-in-github",
        "colab_type": "text"
      },
      "source": [
        "<a href=\"https://colab.research.google.com/github/niths1271/AI-LAB/blob/main/maze.ipynb\" target=\"_parent\"><img src=\"https://colab.research.google.com/assets/colab-badge.svg\" alt=\"Open In Colab\"/></a>"
      ]
    },
    {
      "cell_type": "code",
      "execution_count": null,
      "metadata": {
        "id": "tJIYHV5UeP43"
      },
      "outputs": [],
      "source": [
        "def dfssearch(state,target,visited_states,d):\n",
        "  if state==target:\n",
        "    return True\n",
        "  visited_states.append(state)\n",
        "  moves=possible_moves(state,target)\n",
        "\n",
        "  f=[h(x,target)+d for x in moves]\n",
        "  min_f=min(f)\n",
        "\n",
        "  selected_moves=[]\n",
        "  for i in range(len(moves)):\n",
        "    if f[i]==min_f: \n",
        "      selected_moves.append(moves[i])\n",
        "  \n",
        "  for move in selected_moves:\n",
        "    if dfssearch(move,target,visited_states,d+1):\n",
        "      path.append(move)\n",
        "      return True\n",
        "  \n",
        "  return False"
      ]
    },
    {
      "cell_type": "code",
      "source": [
        "import math\n",
        "\n",
        "def h(pos1,pos2):\n",
        "     x1,y1=pos1\n",
        "     x2,y2=pos2\n",
        "     return math.sqrt(pow((x1-x2),2)+pow((y1-y2),2))"
      ],
      "metadata": {
        "id": "PLzL3Mk_hvKt"
      },
      "execution_count": null,
      "outputs": []
    },
    {
      "cell_type": "code",
      "source": [
        "def possible_moves(pos,visited):\n",
        "    pos_moves=[]\n",
        "    i,j=pos \n",
        "    for l in [i-1,i,i+1]:\n",
        "        for m in [j-1,j,j+1]:\n",
        "            if  l>=0 and m>=0 and l<len(maze) and m<len(maze[0]) and not((l,m)==(i,j)) and maze[l][m]!=1:\n",
        "                 if (l,m) not in visited: \n",
        "                   pos_moves.append((l,m))                \n",
        "    return pos_moves"
      ],
      "metadata": {
        "id": "SmzBh17Lfg4A"
      },
      "execution_count": null,
      "outputs": []
    },
    {
      "cell_type": "code",
      "source": [
        "def solve_maze(src,target):\n",
        "    res=dfssearch(src,target,visited,0)\n",
        "    if not res: \n",
        "      print('No path exists')\n",
        "    else:\n",
        "      l=len(path)\n",
        "      for i in range(l):\n",
        "        print(path[l-i-1]) "
      ],
      "metadata": {
        "id": "1oDWdnM3flAu"
      },
      "execution_count": null,
      "outputs": []
    },
    {
      "cell_type": "code",
      "source": [
        "src=0,0\n",
        "target=3,3\n",
        "visited=[]\n",
        "path=[]\n",
        "maze=[[0,1,0,0,1],[1,0,0,1,1],[1,0,1,0,1],[1,1,1,0,1]]\n",
        "solve_maze(src,target)"
      ],
      "metadata": {
        "colab": {
          "base_uri": "https://localhost:8080/"
        },
        "id": "XGZ04X5fgIsk",
        "outputId": "8d6a87e7-43e8-46db-e2a0-56ece20fb423"
      },
      "execution_count": null,
      "outputs": [
        {
          "output_type": "stream",
          "name": "stdout",
          "text": [
            "(1, 1)\n",
            "(1, 2)\n",
            "(2, 3)\n",
            "(3, 3)\n"
          ]
        }
      ]
    }
  ]
}