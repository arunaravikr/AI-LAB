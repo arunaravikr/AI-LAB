{
  "nbformat": 4,
  "nbformat_minor": 0,
  "metadata": {
    "colab": {
      "name": "8puzzle(using bfs).ipynb",
      "provenance": [],
      "collapsed_sections": [],
      "authorship_tag": "ABX9TyP/ym+Wz+6XJeyH/3E4HGAy",
      "include_colab_link": true
    },
    "kernelspec": {
      "name": "python3",
      "display_name": "Python 3"
    },
    "language_info": {
      "name": "python"
    }
  },
  "cells": [
    {
      "cell_type": "markdown",
      "metadata": {
        "id": "view-in-github",
        "colab_type": "text"
      },
      "source": [
        "<a href=\"https://colab.research.google.com/github/niths1271/AI-LAB/blob/main/8puzzle(using_bfs).ipynb\" target=\"_parent\"><img src=\"https://colab.research.google.com/assets/colab-badge.svg\" alt=\"Open In Colab\"/></a>"
      ]
    },
    {
      "cell_type": "code",
      "metadata": {
        "id": "Rksyz8Db8yEr"
      },
      "source": [
        "def printpuzzle(src):\n",
        "    print(' ' + src[0] + ' | ' + src[1] + ' | ' + src[2])\n",
        "    print('-----------')\n",
        "    print(' ' + src[3] + ' | ' + src[4] + ' | ' + src[5])\n",
        "    print('-----------')\n",
        "    print(' ' + src[6] + ' | ' + src[7] + ' | ' + src[8])\n",
        "    print('\\n')"
      ],
      "execution_count": null,
      "outputs": []
    },
    {
      "cell_type": "code",
      "metadata": {
        "id": "0k9NtmYc-J7l"
      },
      "source": [
        "def bfs(src,target):\n",
        "    queue = []\n",
        "    queue.append(src)\n",
        "    \n",
        "    explored = []\n",
        "    \n",
        "    while len(queue) > 0:\n",
        "        source = queue.pop(0)\n",
        "        explored.append(source)\n",
        "        \n",
        "        printpuzzle(source)\n",
        "        \n",
        "        if source==target:\n",
        "            print(\"Goal State Reached\")\n",
        "            return\n",
        "        \n",
        "        poss_moves_to_do = []\n",
        "        poss_moves_to_do = possible_moves(source,explored)\n",
        "        \n",
        "        for move in poss_moves_to_do:\n",
        "                queue.append(move)"
      ],
      "execution_count": null,
      "outputs": []
    },
    {
      "cell_type": "code",
      "metadata": {
        "id": "Dna0fsiv87Wf"
      },
      "source": [
        "def possible_moves(state,visited_states): \n",
        "    b = state.index(' ')\n",
        "    dir = []\n",
        "    if b not in [0,1,2]: \n",
        "        dir.append('u')\n",
        "    if b not in [6,7,8]: \n",
        "        dir.append('d')\n",
        "    if b not in [0,3,6]: \n",
        "        dir.append('l')\n",
        "    if b not in [2,5,8]: \n",
        "        dir.append('r')\n",
        "        \n",
        "\n",
        "    pos_moves= []\n",
        "    \n",
        "    \n",
        "    for i in dir:\n",
        "        pos_moves.append(convert(state,i,b))\n",
        "        \n",
        "    return [move for move in pos_moves if move not in visited_states]"
      ],
      "execution_count": null,
      "outputs": []
    },
    {
      "cell_type": "code",
      "metadata": {
        "id": "mwpfWKH587ef"
      },
      "source": [
        "def convert(state, m, b):\n",
        "    temp = state.copy()                              \n",
        "    \n",
        "    if m=='d':\n",
        "        temp[b+3],temp[b] = temp[b],temp[b+3]\n",
        "    \n",
        "    if m=='u':\n",
        "        temp[b-3],temp[b] = temp[b],temp[b-3]\n",
        "    \n",
        "    if m=='l':\n",
        "        temp[b-1],temp[b] = temp[b],temp[b-1]\n",
        "    \n",
        "    if m=='r':\n",
        "        temp[b+1],temp[b] = temp[b],temp[b+1]\n",
        "        \n",
        "        \n",
        "    return temp"
      ],
      "execution_count": null,
      "outputs": []
    },
    {
      "cell_type": "code",
      "metadata": {
        "colab": {
          "base_uri": "https://localhost:8080/"
        },
        "id": "I_1wLBYM87lQ",
        "outputId": "a6b2743a-df5f-424c-d853-a2e1b5383479"
      },
      "source": [
        "src = ['1','2','3',' ','4','5','6','7','8']\n",
        "target = ['1','2','3','4','5',' ','6','7','8']         \n",
        "bfs(src, target)"
      ],
      "execution_count": null,
      "outputs": [
        {
          "output_type": "stream",
          "name": "stdout",
          "text": [
            " 1 | 2 | 3\n",
            "-----------\n",
            "   | 4 | 5\n",
            "-----------\n",
            " 6 | 7 | 8\n",
            "\n",
            "\n",
            "   | 2 | 3\n",
            "-----------\n",
            " 1 | 4 | 5\n",
            "-----------\n",
            " 6 | 7 | 8\n",
            "\n",
            "\n",
            " 1 | 2 | 3\n",
            "-----------\n",
            " 6 | 4 | 5\n",
            "-----------\n",
            "   | 7 | 8\n",
            "\n",
            "\n",
            " 1 | 2 | 3\n",
            "-----------\n",
            " 4 |   | 5\n",
            "-----------\n",
            " 6 | 7 | 8\n",
            "\n",
            "\n",
            " 2 |   | 3\n",
            "-----------\n",
            " 1 | 4 | 5\n",
            "-----------\n",
            " 6 | 7 | 8\n",
            "\n",
            "\n",
            " 1 | 2 | 3\n",
            "-----------\n",
            " 6 | 4 | 5\n",
            "-----------\n",
            " 7 |   | 8\n",
            "\n",
            "\n",
            " 1 |   | 3\n",
            "-----------\n",
            " 4 | 2 | 5\n",
            "-----------\n",
            " 6 | 7 | 8\n",
            "\n",
            "\n",
            " 1 | 2 | 3\n",
            "-----------\n",
            " 4 | 7 | 5\n",
            "-----------\n",
            " 6 |   | 8\n",
            "\n",
            "\n",
            " 1 | 2 | 3\n",
            "-----------\n",
            " 4 | 5 |  \n",
            "-----------\n",
            " 6 | 7 | 8\n",
            "\n",
            "\n",
            "Goal State Reached\n"
          ]
        }
      ]
    }
  ]
}